{
 "cells": [
  {
   "cell_type": "markdown",
   "metadata": {},
   "source": [
    "## <p style=\"font-family: Arial; font-size:3em;color:black;\"> Lab Exercise 2 </p>"
   ]
  },
  {
   "cell_type": "code",
   "execution_count": null,
   "metadata": {},
   "outputs": [],
   "source": [
    "Students name in this Group:\n",
    "- Albornoz Cambiaso, Francisco\n",
    "- Anicio Pereira Junior, Jose\n",
    "- Cespedes Acosta, Braulio Jose\n",
    "- Fernandes Lemos, Debora\n",
    "- Jami, Alimul Hasan\n",
    "- Kakkar, Himanshu"
   ]
  },
  {
   "cell_type": "code",
   "execution_count": 7,
   "metadata": {},
   "outputs": [
    {
     "data": {
      "image/png": "[encoded data removed]",
      "text/plain": [
       "<Figure size 640x480 with 1 Axes>"
      ]
     },
     "metadata": {},
     "output_type": "display_data"
    }
   ],
   "source": [
    "%matplotlib inline\n",
    "import numpy as np\n",
    "import matplotlib.pyplot as plt\n",
    "\n",
    "# # of hours a AI student spends on their courses in a month\n",
    "np.random.seed(10)\n",
    "no_hours = np.random.normal(0, 100.0, 10000)\n",
    "\n",
    "plt.hist(no_hours, 50)\n",
    "plt.show()"
   ]
  },
  {
   "cell_type": "code",
   "execution_count": 8,
   "metadata": {},
   "outputs": [
    {
     "name": "stdout",
     "output_type": "stream",
     "text": [
      "Mean of array no_hours: 0.5102056001914934\n",
      "std of array no_hours: 98.9664012771695\n",
      "var of array no_hours: 9794.348581753737\n",
      "Correlation of the Matrix: 1.0\n"
     ]
    }
   ],
   "source": [
    "# Calculate and report the mean, std, and var of the data shown above.\n",
    "print(\"Mean of array no_hours:\", no_hours.mean())\n",
    "print(\"std of array no_hours:\", no_hours.std())\n",
    "print(\"var of array no_hours:\", no_hours.var())\n",
    "# What is the theoretical relationship between std and var? Do the numbers reperted in the previous step agree with your expectation?\n",
    "#Theorically the standard deviation is the square root of the variance. Yes, since the correlation is 1, meaning It's perfect.\n",
    "print(\"Correlation of the Matrix:\", np.corrcoef(no_hours))\n",
    "# Begin changing the different parameters on the normal function, discuss your observations as you change each input parameter.\n",
    "#Observation results: I notice that changing "
   ]
  },
  {
   "cell_type": "code",
   "execution_count": null,
   "metadata": {},
   "outputs": [],
   "source": []
  }
 ],
 "metadata": {
  "kernelspec": {
   "display_name": "Python 3 (ipykernel)",
   "language": "python",
   "name": "python3"
  },
  "language_info": {
   "codemirror_mode": {
    "name": "ipython",
    "version": 3
   },
   "file_extension": ".py",
   "mimetype": "text/x-python",
   "name": "python",
   "nbconvert_exporter": "python",
   "pygments_lexer": "ipython3",
   "version": "3.10.4"
  }
 },
 "nbformat": 4,
 "nbformat_minor": 4
}
