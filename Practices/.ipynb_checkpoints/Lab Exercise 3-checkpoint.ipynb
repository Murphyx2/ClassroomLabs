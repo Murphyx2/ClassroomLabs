{
 "cells": [
  {
   "cell_type": "markdown",
   "metadata": {},
   "source": [
    "<p style=\"font-family: Arial; font-size:3em;color:black;\"> Lab Exercise 3 </p>"
   ]
  },
  {
   "cell_type": "code",
   "execution_count": 29,
   "metadata": {},
   "outputs": [],
   "source": [
    "import numpy as np\n",
    "from numpy.linalg import inv\n",
    "from numpy.linalg import det"
   ]
  },
  {
   "cell_type": "code",
   "execution_count": 30,
   "metadata": {},
   "outputs": [
    {
     "name": "stdout",
     "output_type": "stream",
     "text": [
      "Array_A:  [[5 2 3]\n",
      " [6 1 3]\n",
      " [2 4 1]]\n",
      "Array_B:  [[5 2]\n",
      " [6 1]]\n",
      "Array_C:  [[1 3]\n",
      " [4 1]]\n"
     ]
    }
   ],
   "source": [
    "#Defining Arrays A, B and C\n",
    "array_A = np.array([[5,2,3], [6,1,3],[2,4,1]])\n",
    "print(\"Array_A: \", array_A)\n",
    "array_B = array_A[:2,:2]\n",
    "print(\"Array_B: \", array_B)\n",
    "array_C = array_A[1:,1:]\n",
    "print(\"Array_C: \", array_C)"
   ]
  },
  {
   "cell_type": "code",
   "execution_count": 31,
   "metadata": {},
   "outputs": [
    {
     "name": "stdout",
     "output_type": "stream",
     "text": [
      "Array_D:  [[ 4 -7  4]\n",
      " [ 5  6 -1]\n",
      " [-4  2 -5]]\n",
      "Is AD array equal to DA array?  True\n",
      "Array AD: [[ 20 -14  12]\n",
      " [ 30   6  -3]\n",
      " [ -8   8  -5]]\n",
      "Array DA: [[ 20 -14  12]\n",
      " [ 30   6  -3]\n",
      " [ -8   8  -5]]\n"
     ]
    }
   ],
   "source": [
    "#Define Array D\n",
    "array_D = np.array([[4,-7,4], [5,6,-1], [-4,2,-5]])\n",
    "#Determine if AD and DA are equals\n",
    "AD = array_A * array_D\n",
    "DA = array_D * array_A\n",
    "comparasion_AD_DA = AD==DA\n",
    "print(\"Array_D: \", array_D)\n",
    "print(\"Is AD array equal to DA array? \", comparasion_AD_DA.all())\n",
    "print(\"Array AD:\", AD)\n",
    "print(\"Array DA:\", DA)"
   ]
  },
  {
   "cell_type": "code",
   "execution_count": 33,
   "metadata": {},
   "outputs": [
    {
     "name": "stdout",
     "output_type": "stream",
     "text": [
      "Determinant of B: -7\n"
     ]
    }
   ],
   "source": [
    "#Calculate manually the determinant of B, check with numpy to confirm the results\n",
    "#Manully calculated is -7\n",
    "print(\"Determinant of B:\", round(det(array_B)))"
   ]
  },
  {
   "cell_type": "code",
   "execution_count": 37,
   "metadata": {},
   "outputs": [
    {
     "name": "stdout",
     "output_type": "stream",
     "text": [
      "Inverted array D [[ 0.15642458  0.15083799  0.09497207]\n",
      " [-0.16201117  0.02234637 -0.13407821]\n",
      " [-0.18994413 -0.11173184 -0.32960894]]\n",
      "D * D inv: [[ 0.62569832 -1.05586592  0.37988827]\n",
      " [-0.81005587  0.13407821  0.13407821]\n",
      " [ 0.75977654 -0.22346369  1.64804469]]\n",
      "D inv * D: [[ 0.62569832 -1.05586592  0.37988827]\n",
      " [-0.81005587  0.13407821  0.13407821]\n",
      " [ 0.75977654 -0.22346369  1.64804469]]\n",
      "Drterminant of D: -179.0\n"
     ]
    }
   ],
   "source": [
    "#Get the inverse of Matrix D, Check whenever confirm that D * D inv and D inv * D are identity matrices\n",
    "inv_D = inv(array_D)\n",
    "D_D_inv = array_D * inv_D\n",
    "D_inv_D = inv_D * array_D\n",
    "print(\"Inverted array D\",inv_D)\n",
    "print(\"D * D inv:\", D_D_inv)\n",
    "print(\"D inv * D:\", D_inv_D)\n",
    "#Observation: For the matrix D, It doesn't have Identity. One of the rules to identify if a Matrix has an identity is by looking at the determinant, If It's different to 0, It doesn't have one. \n",
    "print(\"Drterminant of D:\", det(array_D))"
   ]
  },
  {
   "cell_type": "code",
   "execution_count": null,
   "metadata": {},
   "outputs": [],
   "source": []
  }
 ],
 "metadata": {
  "kernelspec": {
   "display_name": "Python 3 (ipykernel)",
   "language": "python",
   "name": "python3"
  },
  "language_info": {
   "codemirror_mode": {
    "name": "ipython",
    "version": 3
   },
   "file_extension": ".py",
   "mimetype": "text/x-python",
   "name": "python",
   "nbconvert_exporter": "python",
   "pygments_lexer": "ipython3",
   "version": "3.10.4"
  }
 },
 "nbformat": 4,
 "nbformat_minor": 4
}
